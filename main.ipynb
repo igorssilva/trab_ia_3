{
 "metadata": {
  "language_info": {
   "codemirror_mode": {
    "name": "ipython",
    "version": 3
   },
   "file_extension": ".py",
   "mimetype": "text/x-python",
   "name": "python",
   "nbconvert_exporter": "python",
   "pygments_lexer": "ipython3",
   "version": "3.9.4"
  },
  "orig_nbformat": 2,
  "kernelspec": {
   "name": "python394jvsc74a57bd036e20b4033ec640916fed8f4942eacf3f7fb6357eac7482e19d91a7ed27b30c2",
   "display_name": "Python 3.9.4 64-bit"
  },
  "metadata": {
   "interpreter": {
    "hash": "36e20b4033ec640916fed8f4942eacf3f7fb6357eac7482e19d91a7ed27b30c2"
   }
  }
 },
 "nbformat": 4,
 "nbformat_minor": 2,
 "cells": [
  {
   "cell_type": "code",
   "execution_count": 2,
   "metadata": {},
   "outputs": [],
   "source": [
    "from pyknow import *\n",
    "class Habitat(Fact):\n",
    "    tipo = Field(str)\n",
    "\n",
    "class Respiracao(Fact):\n",
    "    tipo = Field(str)\n",
    "\n"
   ]
  },
  {
   "cell_type": "code",
   "execution_count": 2,
   "metadata": {},
   "outputs": [
    {
     "output_type": "stream",
     "name": "stdout",
     "text": [
      "O animal é pássaro\n"
     ]
    }
   ],
   "source": [
    "from pyknow import *\n",
    "class ClassifyAnimals(KnowledgeEngine):\n",
    "    @DefFacts()\n",
    "    def _initial_action(self):\n",
    "        yield Fact(action=\"classify\")\n",
    "    \n",
    "    @Rule(Fact(action='classify'),\n",
    "          NOT(Fact(identificar=W())))\n",
    "    def ask_identificar(self):\n",
    "        self.declare(Fact(identificar=input(\"Olá! Vamos identificar um animal? \")))\n",
    "    \n",
    "    @Rule(Fact(identificar='N'))\n",
    "    def nao_identificar(self):\n",
    "        print(\"Tchau.\")\n",
    "\n",
    "    @Rule(Fact(identificar='S'))\n",
    "    def ask_amamenta(self):\n",
    "        self.declare(Fact(amamenta=input(\"O animal é amamentado? \")))\n",
    "\n",
    "    @Rule(Fact(amamenta='N'))\n",
    "    def ask_penas(self):\n",
    "        self.declare(Fact(penas=input(\"O animal tem penas? \")))\n",
    "    \n",
    "    @Rule(Fact(penas='S'))\n",
    "    def e_ave(self):\n",
    "        self.declare(Fact(tipo='ave'))\n",
    "\n",
    "    @Rule(Fact(tipo='ave'))\n",
    "    def ask_voa(self):\n",
    "        self.declare(Fact(voa=input(\"O animal voa? \")))\n",
    "\n",
    "    @Rule(AND(Fact(voa='N'),\n",
    "              Fact(tipo='ave')))\n",
    "    def e_pinguim(self):\n",
    "        self.declare(Fact(name=\"pinguim\"))\n",
    "        self.declare(Fact(identificado='S'))\n",
    "\n",
    "    @Rule(AND(Fact(voa='S'),\n",
    "              Fact(tipo='ave')))\n",
    "    def e_passaro(self):\n",
    "        self.declare(Fact(name=\"pássaro\"))\n",
    "        self.declare(Fact(identificado='S'))\n",
    "\n",
    "    @Rule(Fact(identificado='S'),\n",
    "          Fact(name=MATCH.name))\n",
    "    def identificado(self, name):\n",
    "        print(\"O animal é %s\" % (name))\n",
    "        self.declare(Fact(identificar=None))\n",
    "\n",
    "engine = ClassifyAnimals()\n",
    "engine.reset()\n",
    "engine.run() "
   ]
  },
  {
   "cell_type": "code",
   "execution_count": null,
   "metadata": {},
   "outputs": [],
   "source": []
  }
 ]
}