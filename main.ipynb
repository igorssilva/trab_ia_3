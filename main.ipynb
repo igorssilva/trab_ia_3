{
 "metadata": {
  "language_info": {
   "codemirror_mode": {
    "name": "ipython",
    "version": 3
   },
   "file_extension": ".py",
   "mimetype": "text/x-python",
   "name": "python",
   "nbconvert_exporter": "python",
   "pygments_lexer": "ipython3",
   "version": "3.9.1"
  },
  "orig_nbformat": 2,
  "kernelspec": {
   "name": "python391jvsc74a57bd0e46eb4d672c5e208c64bbbbd6b5be7705f12fd524659d44f59e923330a52578f",
   "display_name": "Python 3.9.1 64-bit"
  },
  "metadata": {
   "interpreter": {
    "hash": "e46eb4d672c5e208c64bbbbd6b5be7705f12fd524659d44f59e923330a52578f"
   }
  }
 },
 "nbformat": 4,
 "nbformat_minor": 2,
 "cells": [
  {
   "cell_type": "code",
   "execution_count": 5,
   "metadata": {},
   "outputs": [],
   "source": [
    "from pyknow import *\n",
    "class Habitat(Fact):\n",
    "    tipo = Field(str)\n",
    "\n",
    "class Respiracao(Fact):\n",
    "    tipo = Field(str)\n",
    "\n"
   ]
  },
  {
   "cell_type": "code",
   "execution_count": null,
   "metadata": {},
   "outputs": [],
   "source": []
  }
 ]
}